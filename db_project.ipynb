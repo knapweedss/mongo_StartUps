{
 "cells": [
  {
   "cell_type": "markdown",
   "metadata": {},
   "source": [
    "# Creating Mongo DB"
   ]
  },
  {
   "cell_type": "code",
   "execution_count": 26,
   "metadata": {},
   "outputs": [],
   "source": [
    "import pymongo\n",
    "from bson import ObjectId, json_util\n",
    "import json"
   ]
  },
  {
   "cell_type": "code",
   "execution_count": 27,
   "metadata": {},
   "outputs": [],
   "source": [
    "myclient = pymongo.MongoClient(\"mongodb://localhost:27017/\")\n",
    "mydb = myclient[\"startUps\"]\n",
    "mycol = mydb[\"companies\"]"
   ]
  },
  {
   "cell_type": "code",
   "execution_count": 61,
   "metadata": {},
   "outputs": [],
   "source": [
    "mycol2 = mydb[\"unis\"]"
   ]
  },
  {
   "cell_type": "markdown",
   "metadata": {},
   "source": [
    "# Insert many"
   ]
  },
  {
   "cell_type": "code",
   "execution_count": 64,
   "metadata": {},
   "outputs": [
    {
     "data": {
      "text/plain": [
       "{'id': 3000,\n",
       " 'company_name': 'Bitwave',\n",
       " 'headline': 'Enterprise Digital Asset Platform',\n",
       " 'tags': ['Recently funded'],\n",
       " 'website': 'https://www.bitwave.io/',\n",
       " 'employees': '11-50',\n",
       " 'about': 'Bitwave has a complete back-office solution for businesses that use crypto. We offer accounting platform integrations and crypto tax tracking, an enterprise multi-sig wallet, and more.',\n",
       " 'locations': ['San Francisco'],\n",
       " 'industries': ['SaaS',\n",
       "  'Enterprise Software',\n",
       "  'Accounting',\n",
       "  'Finance Technology',\n",
       "  'Cryptocurrency',\n",
       "  'Blockchains',\n",
       "  'Fin Tech',\n",
       "  'Blockchain / Cryptocurrency'],\n",
       " 'jobs': {'Engineering': 4, 'Marketing': 1}}"
      ]
     },
     "execution_count": 64,
     "metadata": {},
     "output_type": "execute_result"
    }
   ],
   "source": [
    "import json\n",
    "  \n",
    "f = open('json_data.json')\n",
    "data = json.load(f)\n",
    "data[-1]"
   ]
  },
  {
   "cell_type": "code",
   "execution_count": 65,
   "metadata": {},
   "outputs": [
    {
     "data": {
      "text/plain": [
       "{'rankingNoteText': None,\n",
       " 'nonResponderText': None,\n",
       " 'nonResponder': False,\n",
       " 'act-avg': 32,\n",
       " 'primaryPhoto': 'https://www.usnews.com/img/college-photo_31291.jpg',\n",
       " 'primaryPhotoThumb': 'https://www.usnews.com/img/college-photo_31291_170x170mm.jpg',\n",
       " 'sat-avg': 1400,\n",
       " 'enrollment': 5400,\n",
       " 'city': 'Princeton',\n",
       " 'sortName': 'princetonuniversity',\n",
       " 'zip': '08544',\n",
       " 'rankingNoteCharacter': None,\n",
       " 'acceptance-rate': 7,\n",
       " 'rankingDisplayScore': '100',\n",
       " 'percent-receiving-aid': 60,\n",
       " 'cost-after-aid': 16793.0,\n",
       " 'state': 'NJ',\n",
       " 'rankingSortRank': 1,\n",
       " 'hs-gpa-avg': 3.9,\n",
       " 'urlName': 'princeton-university',\n",
       " 'rankingDisplayName': 'National Universities',\n",
       " 'rankingDisplayRank': '#1',\n",
       " 'ranking': 'overall',\n",
       " 'xwalkId': '186131',\n",
       " 'rankingIsTied': False,\n",
       " 'isPublic': True,\n",
       " 'businessRepScore': None,\n",
       " 'tuition': 47140,\n",
       " 'engineeringRepScore': 4.1,\n",
       " 'displayName': 'Princeton University',\n",
       " 'schoolType': 'national-universities',\n",
       " 'region': None,\n",
       " 'aliasNames': None,\n",
       " 'rankingType': 'national-universities',\n",
       " 'overallRank': 1,\n",
       " 'institutionalControl': 'private',\n",
       " 'rankingMaxPossibleScore': None,\n",
       " 'rankingRankStatus': 'ranked',\n",
       " 'primaryKey': '2627'}"
      ]
     },
     "execution_count": 65,
     "metadata": {},
     "output_type": "execute_result"
    }
   ],
   "source": [
    "f = open('schoolinfo.json')\n",
    "data2 = json.load(f)\n",
    "data2[0]"
   ]
  },
  {
   "cell_type": "code",
   "execution_count": 66,
   "metadata": {},
   "outputs": [],
   "source": [
    "x = mycol2.insert_many(data2)"
   ]
  },
  {
   "cell_type": "markdown",
   "metadata": {},
   "source": [
    "### Проверим, что все ок (ﾉ≧∀≦)ﾉ ‥…━━━★"
   ]
  },
  {
   "cell_type": "code",
   "execution_count": 34,
   "metadata": {},
   "outputs": [
    {
     "name": "stdout",
     "output_type": "stream",
     "text": [
      "{'_id': ObjectId('641f6511ac53a0b987b5b555'), 'id': 1, 'company_name': 'Forward Networks', 'headline': 'Network automation software for a stronger, more reliable network. realize network assurance', 'tags': ['Actively Hiring', 'Highly rated', 'Growing fast', 'Recently funded', 'Same investor as Airbnb', 'Work / Life Balance', 'Strong Leadership'], 'website': 'http://www.forwardnetworks.com/', 'employees': '11-50', 'about': 'The software used to manage networks hasn’t kept up with the dramatic expansion of networks themselves. The Forward Networks solution is designed to help network teams eliminate network outages and reduce time to remediate errors. Its platform enables engineers and operators to visualize and search complex networks, debug configuration problems, verify network-wide policy implementations, and predict network behavior prior to deploying changes. Forward Networks builds a software replica of an entire network to analyze its behavior. Using the network copy, the software traces, indexes, and stores the collected data, monitoring things like end-to-end behavior, verification of the network’s forwarding behavior and security posture, and close monitoring of configuration changes.', 'locations': ['Palo Alto'], 'industries': ['Enterprise Software', 'Information Technology', 'Networking', 'Software', 'Computers'], 'jobs': {'Engineering': 7, 'Founder': 2, 'Investor': 1, 'Marketing': 1, 'Other Engineering': 6, 'Product': 1, 'Sales': 13}}\n"
     ]
    }
   ],
   "source": [
    "x = mycol.find_one()\n",
    "print(x)"
   ]
  },
  {
   "cell_type": "code",
   "execution_count": 67,
   "metadata": {},
   "outputs": [
    {
     "name": "stdout",
     "output_type": "stream",
     "text": [
      "{'_id': ObjectId('641f79d5ac53a0b987b5c10f'), 'rankingNoteText': None, 'nonResponderText': None, 'nonResponder': False, 'act-avg': 32, 'primaryPhoto': 'https://www.usnews.com/img/college-photo_31291.jpg', 'primaryPhotoThumb': 'https://www.usnews.com/img/college-photo_31291_170x170mm.jpg', 'sat-avg': 1400, 'enrollment': 5400, 'city': 'Princeton', 'sortName': 'princetonuniversity', 'zip': '08544', 'rankingNoteCharacter': None, 'acceptance-rate': 7, 'rankingDisplayScore': '100', 'percent-receiving-aid': 60, 'cost-after-aid': 16793.0, 'state': 'NJ', 'rankingSortRank': 1, 'hs-gpa-avg': 3.9, 'urlName': 'princeton-university', 'rankingDisplayName': 'National Universities', 'rankingDisplayRank': '#1', 'ranking': 'overall', 'xwalkId': '186131', 'rankingIsTied': False, 'isPublic': True, 'businessRepScore': None, 'tuition': 47140, 'engineeringRepScore': 4.1, 'displayName': 'Princeton University', 'schoolType': 'national-universities', 'region': None, 'aliasNames': None, 'rankingType': 'national-universities', 'overallRank': 1, 'institutionalControl': 'private', 'rankingMaxPossibleScore': None, 'rankingRankStatus': 'ranked', 'primaryKey': '2627'}\n"
     ]
    }
   ],
   "source": [
    "x = mycol2.find_one()\n",
    "print(x)"
   ]
  },
  {
   "cell_type": "markdown",
   "metadata": {},
   "source": [
    "# Insert one"
   ]
  },
  {
   "cell_type": "markdown",
   "metadata": {},
   "source": [
    "Создадим мок-объект для записи "
   ]
  },
  {
   "cell_type": "code",
   "execution_count": 47,
   "metadata": {},
   "outputs": [],
   "source": [
    "my_mock = {'id': 3001,\n",
    "     'company_name': 'MemeAI',\n",
    "     'headline': 'Generating memes',\n",
    "     'tags': ['Actively Hiring',\n",
    "      'Highly rated'\n",
    "      'Strong Leadership'],\n",
    "     'website': 'http://www.forwardnetworks.com/',\n",
    "     'employees': '11-50',\n",
    "     'about': 'Stonks hehe',\n",
    "     'locations': ['Palo Alto'],\n",
    "     'industries': ['Enterprise Software',\n",
    "      'Information Technology',\n",
    "      'Networking',\n",
    "      'Software',\n",
    "      'Computers'],\n",
    "     'jobs': {'Product Memeger': 1}}"
   ]
  },
  {
   "cell_type": "code",
   "execution_count": 48,
   "metadata": {},
   "outputs": [],
   "source": [
    "x = mycol.insert_one(my_mock)"
   ]
  },
  {
   "cell_type": "code",
   "execution_count": 49,
   "metadata": {},
   "outputs": [
    {
     "name": "stdout",
     "output_type": "stream",
     "text": [
      "641f71d4ac53a0b987b5c10e\n"
     ]
    }
   ],
   "source": [
    "print(x.inserted_id)"
   ]
  },
  {
   "cell_type": "markdown",
   "metadata": {},
   "source": [
    "# Filter"
   ]
  },
  {
   "cell_type": "code",
   "execution_count": 50,
   "metadata": {},
   "outputs": [
    {
     "name": "stdout",
     "output_type": "stream",
     "text": [
      "{'_id': ObjectId('641f71d4ac53a0b987b5c10e'), 'id': 3001, 'company_name': 'MemeAI', 'headline': 'Generating memes', 'tags': ['Actively Hiring', 'Highly ratedStrong Leadership'], 'website': 'http://www.forwardnetworks.com/', 'employees': '11-50', 'about': 'Stonks hehe', 'locations': ['Palo Alto'], 'industries': ['Enterprise Software', 'Information Technology', 'Networking', 'Software', 'Computers'], 'jobs': {'Product Memeger': 1}}\n"
     ]
    }
   ],
   "source": [
    "query = { 'company_name': 'MemeAI' }\n",
    "mydoc = mycol.find(query)\n",
    "\n",
    "for x in mydoc:\n",
    "    print(x)"
   ]
  },
  {
   "cell_type": "markdown",
   "metadata": {},
   "source": [
    "# Update"
   ]
  },
  {
   "cell_type": "markdown",
   "metadata": {},
   "source": [
    "Воообще, по заголовку делать так не всегда подойдет - если сметчится больше одного раза, то апдейт ниже применится только к первому метчу (если нужно все, то update many, но я не хочу ломать данные)"
   ]
  },
  {
   "cell_type": "code",
   "execution_count": 54,
   "metadata": {},
   "outputs": [
    {
     "data": {
      "text/plain": [
       "<pymongo.results.UpdateResult at 0x7f90a15683d0>"
      ]
     },
     "execution_count": 54,
     "metadata": {},
     "output_type": "execute_result"
    }
   ],
   "source": [
    "query = { 'headline': 'Generating memes' }\n",
    "newvals = { '$set': { 'headline': 'Generating SUPER FUNNY memes' } }\n",
    "\n",
    "mycol.update_one(query, newvals)"
   ]
  },
  {
   "cell_type": "code",
   "execution_count": 55,
   "metadata": {},
   "outputs": [
    {
     "name": "stdout",
     "output_type": "stream",
     "text": [
      "{'_id': ObjectId('641f71d4ac53a0b987b5c10e'), 'id': 3001, 'company_name': 'MemeAI', 'headline': 'Generating SUPER FUNNY memes', 'tags': ['Actively Hiring', 'Highly ratedStrong Leadership'], 'website': 'http://www.forwardnetworks.com/', 'employees': '11-50', 'about': 'Stonks hehe', 'locations': ['Palo Alto'], 'industries': ['Enterprise Software', 'Information Technology', 'Networking', 'Software', 'Computers'], 'jobs': {'Product Memeger': 1}}\n"
     ]
    }
   ],
   "source": [
    "query = { 'company_name': 'MemeAI' }\n",
    "mydoc = mycol.find(query)\n",
    "\n",
    "for x in mydoc:\n",
    "    print(x)"
   ]
  },
  {
   "cell_type": "markdown",
   "metadata": {},
   "source": [
    "# Delete"
   ]
  },
  {
   "cell_type": "markdown",
   "metadata": {},
   "source": [
    "Удалим внесенную нами ранее выдуманную IT компанию ♨o(>_<)o♨"
   ]
  },
  {
   "cell_type": "code",
   "execution_count": 56,
   "metadata": {},
   "outputs": [
    {
     "data": {
      "text/plain": [
       "<pymongo.results.DeleteResult at 0x7f90a1568c70>"
      ]
     },
     "execution_count": 56,
     "metadata": {},
     "output_type": "execute_result"
    }
   ],
   "source": [
    "query = { 'company_name': 'MemeAI' }\n",
    "mycol.delete_one(query)"
   ]
  },
  {
   "cell_type": "markdown",
   "metadata": {},
   "source": [
    "Теперь возьмем и прооверим по айди 乁( • ω •乁) "
   ]
  },
  {
   "cell_type": "code",
   "execution_count": 57,
   "metadata": {},
   "outputs": [],
   "source": [
    "query = { 'id': 3001 }\n",
    "mydoc = mycol.find(query)\n",
    "\n",
    "for x in mydoc:\n",
    "    print(x)"
   ]
  },
  {
   "cell_type": "markdown",
   "metadata": {},
   "source": [
    "Ура все удалилось!"
   ]
  },
  {
   "cell_type": "markdown",
   "metadata": {},
   "source": [
    "# Запросы"
   ]
  },
  {
   "cell_type": "markdown",
   "metadata": {},
   "source": [
    "### Regexp"
   ]
  },
  {
   "cell_type": "markdown",
   "metadata": {},
   "source": [
    "(￣▽￣)ノ"
   ]
  },
  {
   "cell_type": "markdown",
   "metadata": {},
   "source": [
    "Сколько стартапоы со статусом Actively Hiring?"
   ]
  },
  {
   "cell_type": "code",
   "execution_count": 128,
   "metadata": {},
   "outputs": [
    {
     "data": {
      "text/plain": [
       "2546"
      ]
     },
     "execution_count": 128,
     "metadata": {},
     "output_type": "execute_result"
    }
   ],
   "source": [
    "query = { \"tags\": { \"$regex\": 'Actively Hiring', \"$options\" :'i' } }\n",
    "res = mycol.count_documents(query)\n",
    "res"
   ]
  },
  {
   "cell_type": "markdown",
   "metadata": {},
   "source": [
    "Какие стартапы связаны с криптой? Ограничим вывод до 6"
   ]
  },
  {
   "cell_type": "code",
   "execution_count": 337,
   "metadata": {},
   "outputs": [
    {
     "name": "stdout",
     "output_type": "stream",
     "text": [
      "Chainalysis\n",
      "Ripple\n",
      "WalletConnect\n",
      "Keyp\n",
      "Messari\n",
      "Immuna\n"
     ]
    }
   ],
   "source": [
    "query = {\n",
    "    '$or':\n",
    "        [\n",
    "            {'about':{'$regex':'crypto'}},\n",
    "            {'about':{'$regex':'bitcoin'}}\n",
    "        ]\n",
    "}\n",
    "mydoc = mycol.find(query).sort(\"id\", 1).limit(6)\n",
    "for x in mydoc:\n",
    "    print(x['company_name'])"
   ]
  },
  {
   "cell_type": "markdown",
   "metadata": {},
   "source": [
    "Выведем университеты, название которых начинается с \"M\" и при этом private institutionalControl"
   ]
  },
  {
   "cell_type": "code",
   "execution_count": 357,
   "metadata": {},
   "outputs": [
    {
     "name": "stdout",
     "output_type": "stream",
     "text": [
      "Massachusetts Institute of Technology\n",
      "Marquette University\n",
      "Mercer University\n",
      "Maryville University of St. Louis\n"
     ]
    }
   ],
   "source": [
    "query = {\n",
    "    '$and':\n",
    "        [\n",
    "            {'displayName': {'$regex':'^M'}},\n",
    "            {'institutionalControl':{'$regex':'private'}}\n",
    "        ]\n",
    "}\n",
    "mydoc = mycol2.find(query).sort(\"id\", 1).limit(5)\n",
    "for x in mydoc:\n",
    "    print(x['displayName'])"
   ]
  },
  {
   "cell_type": "markdown",
   "metadata": {},
   "source": [
    "### Sort"
   ]
  },
  {
   "cell_type": "markdown",
   "metadata": {},
   "source": [
    "(^_<)〜☆"
   ]
  },
  {
   "cell_type": "markdown",
   "metadata": {},
   "source": [
    "Выведем названия компаний, которые указали remote-friendly в описании и отсортируем по убыванию  id"
   ]
  },
  {
   "cell_type": "code",
   "execution_count": 159,
   "metadata": {},
   "outputs": [
    {
     "name": "stdout",
     "output_type": "stream",
     "text": [
      "Loyal\n",
      "Vantage\n",
      "Radar\n",
      "Gordian Software (YC W19)\n"
     ]
    }
   ],
   "source": [
    "query = ({'about':{'$regex':'remote-friendly'}})\n",
    "mydoc = mycol.find(query).sort(\"id\", -1)\n",
    "for x in mydoc:\n",
    "    print(x['company_name'])"
   ]
  },
  {
   "cell_type": "markdown",
   "metadata": {},
   "source": [
    "### Limit"
   ]
  },
  {
   "cell_type": "markdown",
   "metadata": {},
   "source": [
    "‿︵‿︵‿︵‿ヽ(°□° )ノ︵‿︵‿︵‿︵"
   ]
  },
  {
   "cell_type": "markdown",
   "metadata": {},
   "source": [
    "Выведем, сколько позиций дизайнера в Фин-Техе, ограничив вывод 2 "
   ]
  },
  {
   "cell_type": "code",
   "execution_count": 171,
   "metadata": {},
   "outputs": [],
   "source": [
    "match = {\n",
    "   \"$match\": {\n",
    "         \"industries\": \"Fin Tech\"\n",
    "   }\n",
    "}\n",
    "\n",
    "# Ограничим вывод 2 документами\n",
    "limit = { \"$limit\": 2 }\n",
    "\n",
    "pipeline = [\n",
    "   match, \n",
    "   limit,\n",
    "]\n",
    "results = mycol.aggregate(pipeline)"
   ]
  },
  {
   "cell_type": "code",
   "execution_count": 172,
   "metadata": {},
   "outputs": [
    {
     "name": "stdout",
     "output_type": "stream",
     "text": [
      "(\" Всего позиций: 13, Локация: New York City, Индустрии: ['Financial \"\n",
      " \"Services', 'Consumers', 'Payments', 'Peer-to-Peer', 'Finance', 'P2P Money \"\n",
      " \"Transfer', 'Fin Tech']\")\n",
      "----------(〜￣△￣)〜-----------\n",
      "(\" Всего позиций: 1, Локация: Palo Alto, Индустрии: ['Financial Services', \"\n",
      " \"'E-Commerce', 'Payments', 'Mobile Payments', 'Fin Tech']\")\n",
      "----------(〜￣△￣)〜-----------\n"
     ]
    }
   ],
   "source": [
    "import pprint\n",
    "pp = pprint.PrettyPrinter(indent=4)\n",
    "\n",
    "for r in results:\n",
    "    pp.pprint(\" Всего позиций: {jobs}, Локация: {locations}, Индустрии: {ind}\".format(\n",
    "         jobs=r[\"jobs\"]['Designer'],\n",
    "         locations=r[\"locations\"][0],\n",
    "         ind=r['industries']\n",
    "   ))\n",
    "    print('----------(〜￣△￣)〜-----------')"
   ]
  },
  {
   "cell_type": "markdown",
   "metadata": {},
   "source": [
    "### Join"
   ]
  },
  {
   "cell_type": "markdown",
   "metadata": {},
   "source": [
    "(╮°-°)╮┳━━┳ ( ╯°□°)╯ ┻━━┻"
   ]
  },
  {
   "cell_type": "markdown",
   "metadata": {},
   "source": [
    "Выведем названия университетов и скор по бизнесу, которые там же, где стартапы, где есть вакансии Accounting (сами названия компаний тоже принтим)"
   ]
  },
  {
   "cell_type": "code",
   "execution_count": 307,
   "metadata": {},
   "outputs": [
    {
     "name": "stdout",
     "output_type": "stream",
     "text": [
      "Компания: AppZen, Университет: Arizona State University--Tempe, businessRepScore: 3.6\n",
      "Компания: Wholesail, Университет: University of San Francisco, businessRepScore: 2.8\n",
      "Компания: Wholesail, Университет: San Francisco State University, businessRepScore: 2.5\n",
      "Компания: Wholesail, Университет: California Institute of Integral Studies, businessRepScore: None\n",
      "Компания: FloQast, Университет: University of California--Los Angeles, businessRepScore: None\n",
      "Компания: FloQast, Университет: University of Southern California, businessRepScore: 4.1\n",
      "Компания: FloQast, Университет: Ohio State University--Columbus, businessRepScore: 3.8\n",
      "Компания: Fonteva, Университет: Virginia Commonwealth University, businessRepScore: 2.7\n",
      "Компания: Fonteva, Университет: University of Texas--Arlington, businessRepScore: 2.7\n",
      "Компания: ShoppinPal, Университет: University of San Francisco, businessRepScore: 2.8\n",
      "Компания: ShoppinPal, Университет: San Francisco State University, businessRepScore: 2.5\n",
      "Компания: ShoppinPal, Университет: California Institute of Integral Studies, businessRepScore: None\n",
      "Компания: FinOptimal, Университет: Rice University, businessRepScore: None\n",
      "Компания: FinOptimal, Университет: University of Houston, businessRepScore: 2.9\n",
      "Компания: FinOptimal, Университет: Texas Southern University, businessRepScore: 2.1\n",
      "Компания: Cone, Университет: University of San Francisco, businessRepScore: 2.8\n",
      "Компания: Cone, Университет: San Francisco State University, businessRepScore: 2.5\n",
      "Компания: Cone, Университет: California Institute of Integral Studies, businessRepScore: None\n",
      "Компания: DebtBook, Университет: University of North Carolina--Charlotte, businessRepScore: 2.8\n",
      "Компания: Bitwave, Университет: University of San Francisco, businessRepScore: 2.8\n",
      "Компания: Bitwave, Университет: San Francisco State University, businessRepScore: 2.5\n",
      "Компания: Bitwave, Университет: California Institute of Integral Studies, businessRepScore: None\n"
     ]
    }
   ],
   "source": [
    "q = mycol.aggregate([\n",
    "    {\n",
    "        '$lookup': {\n",
    "            'from': 'unis', \n",
    "            'localField': \"locations\", \n",
    "            'foreignField': \"city\", \n",
    "            'as': 'joinedResult'\n",
    "        }},          \n",
    "    {\"$unwind\": \"$joinedResult\"},\n",
    "    {\"$match\": {\n",
    "         \"industries\": \"Accounting\"\n",
    "   }},\n",
    "])\n",
    "for i in q:\n",
    "    print(f\"Компания: {i['company_name']}, Университет: {i['joinedResult']['displayName']}, \"\n",
    "          f\"businessRepScore: {i['joinedResult']['businessRepScore']}\")"
   ]
  },
  {
   "cell_type": "markdown",
   "metadata": {},
   "source": [
    "### Group"
   ]
  },
  {
   "cell_type": "markdown",
   "metadata": {},
   "source": [
    "☆*:.｡.o(≧▽≦)o.｡.:*☆"
   ]
  },
  {
   "cell_type": "markdown",
   "metadata": {},
   "source": [
    "Выведем средние GPA с группировкой по штатам и отсортируем по GPA"
   ]
  },
  {
   "cell_type": "code",
   "execution_count": 243,
   "metadata": {},
   "outputs": [],
   "source": [
    "agg_result= mycol2.aggregate(\n",
    "    [{\n",
    "    \"$group\" : \n",
    "        {\"_id\" : \"$state\", \n",
    "         \"AVG GPA\" : {\"$avg\" : \"$hs-gpa-avg\"}\n",
    "         }},\n",
    "        { \"$sort\" : { \"AVG GPA\" : -1 } }\n",
    "    ])\n",
    "\n",
    "state, gpa = [], []\n",
    "for i in agg_result:\n",
    "    if i['AVG GPA']:\n",
    "        state.append(i['_id'])\n",
    "        gpa.append(i['AVG GPA'])\n",
    "        #print(f\"Штат: {i['_id']}, Avg.GPA: {i['AVG GPA']}\")"
   ]
  },
  {
   "cell_type": "code",
   "execution_count": 261,
   "metadata": {},
   "outputs": [
    {
     "data": {
      "image/png": "[encoded data removed]",
      "text/plain": [
       "<Figure size 1152x576 with 1 Axes>"
      ]
     },
     "metadata": {
      "needs_background": "light"
     },
     "output_type": "display_data"
    }
   ],
   "source": [
    "import numpy as np\n",
    "import matplotlib.pyplot as plt\n",
    "fig = plt.figure(figsize = (16, 8))\n",
    "plt.bar(state, gpa, color ='salmon',\n",
    "        width = 0.7)\n",
    " \n",
    "plt.xlabel(\"State\")\n",
    "plt.ylabel(\"Avg. GPA\")\n",
    "plt.title(\"Average GPA by States\")\n",
    "plt.show()"
   ]
  }
 ],
 "metadata": {
  "kernelspec": {
   "display_name": "Python 3 (ipykernel)",
   "language": "python",
   "name": "python3"
  },
  "language_info": {
   "codemirror_mode": {
    "name": "ipython",
    "version": 3
   },
   "file_extension": ".py",
   "mimetype": "text/x-python",
   "name": "python",
   "nbconvert_exporter": "python",
   "pygments_lexer": "ipython3",
   "version": "3.9.7"
  }
 },
 "nbformat": 4,
 "nbformat_minor": 4
}
